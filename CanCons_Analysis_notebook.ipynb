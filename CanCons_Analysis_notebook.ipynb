{
 "cells": [
  {
   "cell_type": "markdown",
   "metadata": {},
   "source": [
    "# 1.0 Setting things up"
   ]
  },
  {
   "cell_type": "markdown",
   "metadata": {},
   "source": [
    "Imports all the required libraries and packages.\n",
    "Checks version numbers"
   ]
  },
  {
   "cell_type": "code",
   "execution_count": null,
   "metadata": {},
   "outputs": [],
   "source": [
    "import sys\n",
    "sys.path.append('C://Users/leopo/OneDrive - ETS/Leo Wambersie/3- Données analysées/Python/OpenIO-Canada-master/OpenIO-Canada-master/')\n",
    "import CanCons_OpenIO\n",
    "import pandas as pd\n",
    "import numpy as np\n",
    "import regex\n",
    "import pymrio\n",
    "import country_converter as coco\n",
    "\n",
    "print(pd.__version__)\n",
    "print(np.__version__)\n",
    "print(regex.__version__)\n",
    "print(pymrio.__version__)\n",
    "print(coco.__version__)"
   ]
  },
  {
   "cell_type": "markdown",
   "metadata": {},
   "source": [
    "# 2.0 Running adapted version of OpenIO"
   ]
  },
  {
   "cell_type": "markdown",
   "metadata": {},
   "source": [
    "Runs OpenIO code, then calculates remaining matrices.\n",
    "Requires folder_path to Supply Use Tables, and exiobase pxp folder"
   ]
  },
  {
   "cell_type": "code",
   "execution_count": null,
   "metadata": {},
   "outputs": [],
   "source": [
    "CanIO = CanCons_OpenIO.IOTables(folder_path='/15-602-x_2018_eng/Detail level/',\n",
    "                                             exiobase_folder='/IOT_2018_pxp/IOT_2018_pxp/')\n",
    "CanIO.calc() #Calculates remaining matrices"
   ]
  },
  {
   "cell_type": "markdown",
   "metadata": {},
   "source": [
    "(Note: The following functionality has been integrated into the CanCons_OpenIO code.)\n",
    "\n",
    "Several of the analyses require a global Z matrix. Since the A matrix was created by connecting openIO and exiobase A matrices, obtaining an estimate of a global Z matrix requires multipling the A matrix by a new vector representing overall canadian consumption, both from industry and final demand. "
   ]
  },
  {
   "cell_type": "code",
   "execution_count": null,
   "metadata": {},
   "outputs": [],
   "source": [
    "#Identifying import matrices\n",
    "Z_io_sum = CanIO.Z_exio.loc[:, 'CA'].sum(1) #Takes Z imports from exiobase, already converted to CAD\n",
    "Y_io_sum = CanIO.link_openio_exio_final_demands.sum(axis=1) # Y imports from final demand link, which is based on SUTs\n",
    "# Y Alternative is CanIO.Y.iloc[6396:].sum(axis=1)\n",
    "Canada_imports = Z_io_sum + Y_io_sum\n",
    "\n",
    "#New total output vector, which appends imports to the end of the Canadian total output vector\n",
    "q = CanIO.q.sum(axis=1)\n",
    "q_new = pd.concat([q, Canada_imports])\n",
    "\n",
    "# Creating a new Z matrix\n",
    "test_q = pd.DataFrame(np.diag((q_new).replace(np.inf, 0)), CanIO.A.index, CanIO.A.index)\n",
    "World_A = CanIO.A\n",
    "World_Z = World_A.dot(test_q) \n",
    "World_Z"
   ]
  },
  {
   "cell_type": "markdown",
   "metadata": {},
   "source": [
    "# 3.0 Placing construction emissions in context\n",
    "Analysis conducted in spreadsheet."
   ]
  },
  {
   "cell_type": "code",
   "execution_count": null,
   "metadata": {},
   "outputs": [],
   "source": [
    "# All necessary information is in D matrix\n",
    "CanIO.D.T.to_excel(\"D_Analysis.xlsx\")"
   ]
  },
  {
   "cell_type": "markdown",
   "metadata": {},
   "source": [
    "# 4.0 Distribution of Canadian construction emissions"
   ]
  },
  {
   "cell_type": "markdown",
   "metadata": {},
   "source": [
    "Function takes the input flows to the 'Gross fixed capital formation, Construction' final consumption category, and runs an analysis of the environmental impacts embodied in each of these inputs. These inputs are all 19 forms of buildings and infrastructure, plus 3 additional categories such as architectural services, real-estate services, and legal-services."
   ]
  },
  {
   "cell_type": "code",
   "execution_count": null,
   "metadata": {},
   "outputs": [],
   "source": [
    "#Defines function which performs the construbution analysis and exports to excel.\n",
    "def GFCF_analysis(prov):\n",
    "    #Defines the Final demand sector to be analyzed\n",
    "    Prov_GFCF = (prov,'Gross fixed capital formation, Construction')\n",
    "    #Diagonalize\n",
    "    diag_Y_Prov_GFCF = pd.DataFrame(np.diag(CanIO.Y.loc[:, Prov_GFCF].sum(1)),                                                    index=CanIO.Y.index, columns=CanIO.Y.index)\n",
    "    #New E matrix\n",
    "    contribution_analysis_Prov_GFCF = CanIO.C.dot(CanIO.S).dot(CanIO.L).dot(diag_Y_Prov_GFCF)\n",
    "    #Groups all origin regions\n",
    "    contribution_analysis_Prov_GFCF_GROUPED = contribution_analysis_Prov_GFCF.groupby(level=1, axis = 1).sum()\n",
    "    # To excel\n",
    "    contribution_analysis_Prov_GFCF_GROUPED.T.to_excel(\"GFCF_analysis\"+prov+\".xlsx\")"
   ]
  },
  {
   "cell_type": "code",
   "execution_count": null,
   "metadata": {},
   "outputs": [],
   "source": [
    "#Runs the construbition analysis for each province.\n",
    "str_list = ['CA-AB','CA-BC','CA-MB','CA-NB','CA-NL','CA-NS','CA-NT','CA-NU','CA-ON','CA-PE','CA-SK','CA-QC','CA-YT']\n",
    "for x in range(len(str_list)):\n",
    "    prov = str_list[x]\n",
    "    GFCF_analysis(prov)"
   ]
  },
  {
   "cell_type": "markdown",
   "metadata": {},
   "source": [
    "# 5.0 Breaking down sources of emissions within construction sectors\n",
    "This code performs a contribution analysis on the inputs to each of the 4 categories of buildings/infrastructure listed below. \n",
    "Because these are inter-industry flows rather than final demand flows, the Y matrix has been replaced by a column of the synthesized Z matrix."
   ]
  },
  {
   "cell_type": "code",
   "execution_count": null,
   "metadata": {},
   "outputs": [],
   "source": [
    "Z_temp = World_Z.copy()\n",
    "\n",
    "str_list = ['CA-AB','CA-BC','CA-MB','CA-NB','CA-NL','CA-NS','CA-NT','CA-NU','CA-ON','CA-PE','CA-SK','CA-QC','CA-YT']"
   ]
  },
  {
   "cell_type": "code",
   "execution_count": null,
   "metadata": {},
   "outputs": [],
   "source": [
    "# Defines function which will perform a contribution analysis for a given category of building/infrastructure, and province. \n",
    "# Note: Currently set to group by product rather than grouped by region\n",
    "\n",
    "def construction_sector_analysis(prov,sector):\n",
    "    prov = prov\n",
    "    sector = sector\n",
    "    #Defines the commodity in question, province\n",
    "    Prov_ResB = (prov,sector)\n",
    "\n",
    "    #Diagonalize - here it takes a column of the Z matrix, the new constructed one\n",
    "    diag_Y_Prov_ResB = pd.DataFrame(np.diag(Z_temp.loc[:, Prov_ResB]),\n",
    "                                                    index=Z_temp.index, columns=Z_temp.index)\n",
    "    #New E matrix\n",
    "    contribution_analysis_Prov_ResB = CanIO.C.dot(CanIO.S).dot(CanIO.L).dot(diag_Y_Prov_ResB)\n",
    "\n",
    "    #Test\n",
    "    contribution_analysis_Prov_ResB.loc[('Climate change, short term','kg CO2 eq (short)')].T.sort_values(ascending=False)\n",
    "    contribution_analysis_Prov_ResB\n",
    "\n",
    "    #Groups all regions\n",
    "    contribution_analysis_Prov_ResB_GROUPED = contribution_analysis_Prov_ResB.groupby(level=1, axis = 1).sum() #level = 1 for group by product, 0 for group by province\n",
    "\n",
    "    # To excel \n",
    "    contribution_analysis_Prov_ResB_GROUPED.T.to_excel(\"ByProduct_\"+prov+\"_\"+sector+\".xlsx\")"
   ]
  },
  {
   "cell_type": "code",
   "execution_count": null,
   "metadata": {},
   "outputs": [],
   "source": [
    "#Runs the analysis for residential buildings, for all provinces.\n",
    "sector = \"Residential buildings\"\n",
    "\n",
    "for x in range(len(str_list)):\n",
    "    prov = str_list[x]\n",
    "    construction_sector_analysis(prov, sector)"
   ]
  },
  {
   "cell_type": "code",
   "execution_count": null,
   "metadata": {},
   "outputs": [],
   "source": [
    "sector = \"Highways, roads, streets, bridges and tunnels\"\n",
    "\n",
    "for x in range(len(str_list)):\n",
    "    prov = str_list[x]\n",
    "    construction_sector_analysis(prov, sector)"
   ]
  },
  {
   "cell_type": "code",
   "execution_count": null,
   "metadata": {},
   "outputs": [],
   "source": [
    "sector = \"Electric power engineering works\"\n",
    "\n",
    "for x in range(len(str_list)):\n",
    "    prov = str_list[x]\n",
    "    construction_sector_analysis(prov, sector)"
   ]
  },
  {
   "cell_type": "code",
   "execution_count": null,
   "metadata": {},
   "outputs": [],
   "source": [
    "sector = \"Communications networks\"\n",
    "\n",
    "for x in range(len(str_list)):\n",
    "    prov = str_list[x]\n",
    "    construction_sector_analysis(prov, sector)"
   ]
  },
  {
   "cell_type": "markdown",
   "metadata": {},
   "source": [
    "# 6.0 Mapping flows of embodied emissions in residential building construction"
   ]
  },
  {
   "cell_type": "markdown",
   "metadata": {},
   "source": [
    "Residential building construction chosen as a representative sector. For each province or ROW region, the function zeroes out the GHG contribution of all sectors in the S matrix. A contribution analysis is then run, and any decrease in embodied flows caused by the removal of emissions originating the region are deemed equivalent to that region's constribution to embodied emissions flows. Note: 'Scenario list' term used because of additional research testing sector-based scenarios."
   ]
  },
  {
   "cell_type": "code",
   "execution_count": null,
   "metadata": {},
   "outputs": [],
   "source": [
    "#establishing parameteres\n",
    "\n",
    "ROW = ['AT', 'AU', 'BE', 'BG', 'BR', 'CA', 'CH', 'CY', 'CZ', 'DE', 'DK', 'EE', 'ES', 'FI', 'FR',\n",
    "       'GB', 'GR', 'HR', 'HU', 'ID', 'IE', 'IN', 'IT', 'JP', 'KR', 'LT', 'LU',\n",
    "       'LV', 'MT', 'MX', 'NL', 'NO', 'PL', 'PT', 'RO', 'RU', 'SE', 'SI', 'SK',\n",
    "       'TR', 'TW', 'WA', 'WE', 'WF', 'WL', 'WM', 'ZA']\n",
    "\n",
    "scenario_list = ['CA-AB','CA-BC','CA-MB','CA-NB','CA-NL','CA-NS','CA-NT','CA-NU',\n",
    "                 'CA-ON','CA-PE','CA-SK','CA-QC','CA-YT','CN', 'US', ROW]\n",
    "scenario_names = ['CA-AB','CA-BC','CA-MB','CA-NB','CA-NL','CA-NS','CA-NT','CA-NU',\n",
    "                 'CA-ON','CA-PE','CA-SK','CA-QC','CA-YT','CN', 'US', 'ROW']\n",
    "Z_temp = World_Z.copy()\n",
    "\n",
    "prov_list = ['CA-AB','CA-BC','CA-MB','CA-NB','CA-NL','CA-NS','CA-NT','CA-NU','CA-ON','CA-PE','CA-SK','CA-QC','CA-YT']\n",
    "sector = \"Residential buildings\""
   ]
  },
  {
   "cell_type": "code",
   "execution_count": null,
   "metadata": {},
   "outputs": [],
   "source": [
    "# Runs through list of alls scenarios\n",
    "for a in range(len(scenario_list)):\n",
    "    zeroed_sector_list = scenario_list[a] #can change\n",
    "    S_zeroed = CanIO.S.copy()\n",
    "    print ('running scenario '+str(a+1))\n",
    "        \n",
    "    #if it's a province, zero out these categories    \n",
    "    if (zeroed_sector_list in prov_list):\n",
    "        S_zeroed.loc[[(zeroed_sector_list, 'Carbon dioxide', 'Air'),\n",
    "                      (zeroed_sector_list, 'Dinitrogen monoxide', 'Air'),\n",
    "                      (zeroed_sector_list, 'Methane', 'Air')], zeroed_sector_list ] = 0\n",
    "    \n",
    "    #If not, zero out these others\n",
    "    elif (zeroed_sector_list in ['CN', 'US', ROW]):\n",
    "            S_zeroed.loc[[('CO2 - combustion - air'),\n",
    "                            ('CH4 - combustion - air'),\n",
    "                            ('N2O - combustion - air'),\n",
    "                            ('CO2 - non combustion - Cement production - air'),\n",
    "                            ('CO2 - non combustion - Lime production - air'),\n",
    "                            ('CH4 - non combustion - Extraction/production of (natural) gas - air'),\n",
    "                            ('CH4 - non combustion - Extraction/production of crude oil - air'),\n",
    "                            ('CH4 - non combustion - Mining of antracite - air'),\n",
    "                            ('CH4 - non combustion - Mining of bituminous coal - air'),\n",
    "                            ('CH4 - non combustion - Mining of coking coal - air'),\n",
    "                            ('CH4 - non combustion - Mining of lignite (brown coal) - air'),\n",
    "                            ('CH4 - non combustion - Mining of sub-bituminous coal - air'),\n",
    "                            ('CH4 - non combustion - Oil refinery - air'),\n",
    "                            ('CH4 - agriculture - air'),\n",
    "                            ('CO2 - agriculture - peat decay - air'),\n",
    "                            ('N2O - agriculture - air'),\n",
    "                            ('CH4 - waste - air'),\n",
    "                            ('CO2 - waste - biogenic - air'),\n",
    "                            ('CO2 - waste - fossil - air')], zeroed_sector_list] = 0\n",
    "                \n",
    "                \n",
    "    #This function runs an analysis with the zeroed out S matrix for the given sector under investigation        \n",
    "    for z in range(len(prov_list)):\n",
    "        #Run classic sensitivity analysis with new S\n",
    "        prov = prov_list[z]\n",
    "        #Diagonalize - here it takes a column of the Z matrix, the new constructed one\n",
    "        diag_Y_PSec = pd.DataFrame(np.diag(Z_temp.loc[:, (prov,sector)]),\n",
    "                                                        index=Z_temp.index, columns=Z_temp.index)\n",
    "        #New E matrix, calculated using the new S matrix from above\n",
    "        contribution_analysis_Psec = CanIO.C.dot(S_zeroed).dot(CanIO.L).dot(diag_Y_PSec)\n",
    "\n",
    "        #Groups all regions (and transposes)\n",
    "        contribution_analysis_Psec_GROUPED = contribution_analysis_Psec.groupby(level=1, axis = 1).sum().T #level = 1 for group by product, 0 for group by province\n",
    "\n",
    "        #Adds province lavel\n",
    "        contribution_analysis_Psec_GROUPED = pd.concat([contribution_analysis_Psec_GROUPED], keys=[prov], names=['Province'])    \n",
    "\n",
    "        # Appends each table below the previous one\n",
    "        if z == 0 :\n",
    "            AllProv_contribution_analysis_Psec_GROUPED = contribution_analysis_Psec_GROUPED\n",
    "            print(\"analysis for \" + prov + \"- Create df\")\n",
    "        elif z > 0 :\n",
    "            AllProv_contribution_analysis_Psec_GROUPED = AllProv_contribution_analysis_Psec_GROUPED.append(contribution_analysis_Psec_GROUPED)\n",
    "            print(\"analysis for \" + prov + \"- appending\")\n",
    "    #Test view        \n",
    "    #AllProv_contribution_analysis_Psec_GROUPED\n",
    "\n",
    "    # To excel \n",
    "    print(\"to excel\")\n",
    "    AllProv_contribution_analysis_Psec_GROUPED.to_excel(\"Zeroed_Region_\"+scenario_names[a]+\"_\"+sector+\"analysis.xlsx\") "
   ]
  },
  {
   "cell_type": "code",
   "execution_count": null,
   "metadata": {},
   "outputs": [],
   "source": []
  },
  {
   "cell_type": "markdown",
   "metadata": {},
   "source": [
    "# 7.0 Comparison with embodied energy"
   ]
  },
  {
   "cell_type": "markdown",
   "metadata": {},
   "source": [
    "Based on data from # 3.0. Analysis performed in spreadsheet."
   ]
  },
  {
   "cell_type": "markdown",
   "metadata": {},
   "source": [
    "# 8.0 Efficiency of construction activities - kgCO2 and TJ per dollar"
   ]
  },
  {
   "cell_type": "markdown",
   "metadata": {},
   "source": [
    "Based on data from # 3.0 as well as a snapshot of the Y matrix."
   ]
  },
  {
   "cell_type": "code",
   "execution_count": null,
   "metadata": {},
   "outputs": [],
   "source": [
    "Y_grouped = CanIO.Y.groupby(level=[0,1],axis = 1).sum()\n",
    "Y_grouped = Y_grouped.loc[:,\n",
    "              [('CA-AB','Gross fixed capital formation, Construction'),\n",
    "              ('CA-BC','Gross fixed capital formation, Construction'),\n",
    "              ('CA-MB','Gross fixed capital formation, Construction'),\n",
    "              ('CA-NB','Gross fixed capital formation, Construction'),\n",
    "              ('CA-NL','Gross fixed capital formation, Construction'),\n",
    "              ('CA-NS','Gross fixed capital formation, Construction'),\n",
    "              ('CA-NT','Gross fixed capital formation, Construction'),\n",
    "              ('CA-NU','Gross fixed capital formation, Construction'),\n",
    "              ('CA-ON','Gross fixed capital formation, Construction'),\n",
    "              ('CA-PE','Gross fixed capital formation, Construction'),\n",
    "              ('CA-QC','Gross fixed capital formation, Construction'),\n",
    "              ('CA-SK','Gross fixed capital formation, Construction'),\n",
    "              ('CA-YT','Gross fixed capital formation, Construction')]\n",
    "             ]\n",
    "Y_grouped\n",
    "Y_grouped.to_excel(\"Y_GFCF_detailed.xlsx\")"
   ]
  },
  {
   "cell_type": "code",
   "execution_count": null,
   "metadata": {},
   "outputs": [],
   "source": []
  },
  {
   "cell_type": "code",
   "execution_count": null,
   "metadata": {},
   "outputs": [],
   "source": []
  },
  {
   "cell_type": "code",
   "execution_count": null,
   "metadata": {},
   "outputs": [],
   "source": []
  },
  {
   "cell_type": "code",
   "execution_count": null,
   "metadata": {},
   "outputs": [],
   "source": []
  }
 ],
 "metadata": {
  "kernelspec": {
   "display_name": "Python 3",
   "language": "python",
   "name": "python3"
  },
  "language_info": {
   "codemirror_mode": {
    "name": "ipython",
    "version": 3
   },
   "file_extension": ".py",
   "mimetype": "text/x-python",
   "name": "python",
   "nbconvert_exporter": "python",
   "pygments_lexer": "ipython3",
   "version": "3.7.3"
  }
 },
 "nbformat": 4,
 "nbformat_minor": 2
}
